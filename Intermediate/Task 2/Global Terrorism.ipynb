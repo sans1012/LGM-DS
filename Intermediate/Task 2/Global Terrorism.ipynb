{
 "cells": [
  {
   "cell_type": "markdown",
   "id": "3446485c",
   "metadata": {},
   "source": [
    "# Data Science Intern at Let's Grow More LGMVIP Feb-22\n",
    "\n",
    "### Intermediate Level Task\n",
    "\n",
    "### Exploratory Data Analysis on Dataset - Terrorism \n",
    "    \n",
    "    As a security/defense analyst, try to find out the hot zone of terrorism.You can choose any of the tool of your choice  \n",
    "\n",
    "\n",
    "### Sanskriti Jain\n",
    "\n"
   ]
  },
  {
   "cell_type": "code",
   "execution_count": null,
   "id": "bca5e1e3",
   "metadata": {},
   "outputs": [],
   "source": [
    "import pandas as pd\n",
    "import matplotlib.pyplot as plt\n",
    "import seaborn as sns\n",
    "import numpy as np\n",
    "import plotly.express as px\n",
    "import folium\n",
    "from folium.plugins import MarkerCluster\n",
    "import warnings\n",
    "warnings.filterwarnings('ignore')\n",
    "pd.options.display.max_columns = None\n",
    "pd.options.display.max_rows = None"
   ]
  },
  {
   "cell_type": "code",
   "execution_count": null,
   "id": "72ce0577",
   "metadata": {},
   "outputs": [],
   "source": [
    "df= pd.read_csv(\"globalterrorismdb_0718dist.csv\", encoding = \"latin1\", engine='python')"
   ]
  },
  {
   "cell_type": "code",
   "execution_count": null,
   "id": "f983ce92",
   "metadata": {},
   "outputs": [],
   "source": [
    "df.head()"
   ]
  },
  {
   "cell_type": "code",
   "execution_count": null,
   "id": "644f83fa",
   "metadata": {},
   "outputs": [],
   "source": [
    "df.columns"
   ]
  },
  {
   "cell_type": "code",
   "execution_count": null,
   "id": "6e211fa6",
   "metadata": {},
   "outputs": [],
   "source": [
    "df.shape"
   ]
  },
  {
   "cell_type": "code",
   "execution_count": null,
   "id": "046d16d3",
   "metadata": {},
   "outputs": [],
   "source": [
    "# finding the percentage of missing data in each row\n",
    "def missing(dff):\n",
    "    print(round((dff.isnull().sum() * 100/ len(dff)),2).sort_values(ascending=False))\n",
    "missing(df)"
   ]
  },
  {
   "cell_type": "code",
   "execution_count": null,
   "id": "0cb243fc",
   "metadata": {},
   "outputs": [],
   "source": [
    "# deleting all those columns where missing percentage of data is higher than 80%\n",
    "limitPer = len(df) * .80\n",
    "df = df.dropna(thresh=limitPer, axis=1)\n",
    "df.shape"
   ]
  },
  {
   "cell_type": "code",
   "execution_count": null,
   "id": "f90eea80",
   "metadata": {},
   "outputs": [],
   "source": [
    "# remaining columns in dataframe\n",
    "col=df.columns\n",
    "data=pd.DataFrame(df, columns=col)\n",
    "data.head()"
   ]
  },
  {
   "cell_type": "code",
   "execution_count": null,
   "id": "8d7feabd",
   "metadata": {},
   "outputs": [],
   "source": [
    "data.columns"
   ]
  },
  {
   "cell_type": "code",
   "execution_count": null,
   "id": "1b3e4806",
   "metadata": {},
   "outputs": [],
   "source": [
    "plt.figure(figsize=(16,7))\n",
    "plt.title(\"Count of Terrorist Attack in Years\", size=20)\n",
    "plt.xlabel(\"Attack Years\",size=15)\n",
    "plt.ylabel(\"Number of attacks each year\", size=15)\n",
    "plt.xticks(data['iyear'].unique(), rotation=45)\n",
    "plt.grid()\n",
    "sns.lineplot(x=data['iyear'].unique(), y=data['iyear'].value_counts(dropna=False).sort_index(),color='teal')\n",
    "plt.show()"
   ]
  },
  {
   "cell_type": "markdown",
   "id": "5bf6feec",
   "metadata": {},
   "source": [
    "### The highest count of terrorist attack was in year 2014."
   ]
  },
  {
   "cell_type": "code",
   "execution_count": null,
   "id": "3a94a7b0",
   "metadata": {},
   "outputs": [],
   "source": [
    "plt.figure(figsize=(20,6))\n",
    "\n",
    "sns.countplot(data=data, x=data[\"region_txt\"], palette='Set2')\n",
    "plt.xticks(rotation=45)\n",
    "plt.xlabel(\"Region\",  size=13, fontweight=\"bold\"  )\n",
    "plt.ylabel(\"Count\",  size=13, fontweight=\"bold\" )\n",
    "plt.title(\"count of attack on various regions in the world \", fontweight=\"bold\" ,  size=25)\n",
    "plt.show()"
   ]
  },
  {
   "cell_type": "markdown",
   "id": "ed3992be",
   "metadata": {},
   "source": [
    "### The most targeted region is \"Middle East and North America\". The safest region in world from these terrorist attacks is \"Central Asia\" and \"East Asia\"\n"
   ]
  },
  {
   "cell_type": "code",
   "execution_count": null,
   "id": "0e8ca909",
   "metadata": {},
   "outputs": [],
   "source": [
    "plt.figure(figsize=(10,5))\n",
    "sns.countplot(data=data, x='attacktype1_txt', hue='success',palette='CMRmap' , edgecolor=sns.color_palette('dark',5))\n",
    "plt.xticks(rotation=45)\n",
    "plt.title(\"Types of attacks and their success and failures\", size=25, fontweight=\"bold\")\n",
    "plt.xlabel(\"Attack Type\",  size=15, fontweight=\"bold\" )\n",
    "plt.ylabel(\"Count\",  size=15, fontweight=\"bold\" )\n",
    "plt.show()"
   ]
  },
  {
   "cell_type": "markdown",
   "id": "547f43af",
   "metadata": {},
   "source": [
    "### Over the years the most common type of terrorist attack was Bombing/Explosion with a high success rate\n",
    "### Hostage Taking and Kidnapping, Unarmed Assult was the terrorist activity eith lowest failure rate"
   ]
  },
  {
   "cell_type": "code",
   "execution_count": null,
   "id": "eadc3da2",
   "metadata": {},
   "outputs": [],
   "source": [
    "data['targtype1_txt'].value_counts().plot(kind='pie',figsize=[15,11],autopct='%1.1f%%')\n",
    "sns.color_palette='viridis'\n",
    "plt.title('Common Targets', size=25, fontweight=\"bold\");\n",
    "plt.ylabel(\"Target type\" ,  size=15, fontweight=\"bold\" )\n"
   ]
  },
  {
   "cell_type": "markdown",
   "id": "22fb3986",
   "metadata": {},
   "source": [
    "## The comman aim/ target of these attacks are \n",
    "    1. Civilians\n",
    "    2. Police and army"
   ]
  },
  {
   "cell_type": "code",
   "execution_count": null,
   "id": "ce9367b8",
   "metadata": {},
   "outputs": [],
   "source": [
    "attacks = data.country_txt.value_counts()[:25].to_frame()\n",
    "attacks.columns = ['Attacks']"
   ]
  },
  {
   "cell_type": "code",
   "execution_count": null,
   "id": "92dda410",
   "metadata": {},
   "outputs": [],
   "source": [
    "kills = data.groupby(['country_txt'])['nkill'].sum().sort_values(ascending =False).to_frame()\n"
   ]
  },
  {
   "cell_type": "code",
   "execution_count": null,
   "id": "9ff41e3a",
   "metadata": {},
   "outputs": [],
   "source": [
    "attacks.merge(kills, how = 'left' , left_index = True, right_index = True).plot(kind ='bar', \n",
    "                                                                                width = 0.8 , \n",
    "                                                                                figsize=(20,6), \n",
    "                                                                                color=( 'b', 'crimson'))\n",
    "plt.title(\"Count of on various countries and the number of casualities faced \",  size=20, fontweight=\"bold\" )\n",
    "plt.xlabel(\"Country\",  size=15, fontweight=\"bold\" )\n",
    "plt.ylabel(\"Count\" , size=15, fontweight=\"bold\" )\n",
    "plt.show()"
   ]
  },
  {
   "cell_type": "markdown",
   "id": "24dd8c49",
   "metadata": {},
   "source": [
    "## Iraq is the country with the most attcks"
   ]
  },
  {
   "cell_type": "markdown",
   "id": "ea02c8eb",
   "metadata": {},
   "source": [
    "The country with most attacks and killing in terrorist activities is Iraq. India is the 4th most attacked country in the world. Syria is the only country with the least attacks yet most killings\n"
   ]
  },
  {
   "cell_type": "code",
   "execution_count": null,
   "id": "ecc0174b",
   "metadata": {},
   "outputs": [],
   "source": [
    "df_India= data[data['country_txt']== 'India']\n",
    "df_India"
   ]
  },
  {
   "cell_type": "code",
   "execution_count": null,
   "id": "e43954ca",
   "metadata": {},
   "outputs": [],
   "source": [
    "plt.figure(figsize=(15,6))\n",
    "sns.lineplot(data=df_India, x='iyear', y = 'nkill', hue= \"attacktype1_txt\")\n",
    "plt.grid(axis='y')\n",
    "plt.legend()\n",
    "plt.title(\"Type of attacks over the years in India\",fontweight='bold',size=20 )\n",
    "plt.xlabel(\"Year\" ,fontweight='bold',size=15)\n",
    "plt.ylabel(\"Count of Kills\",fontweight='bold',size=15)\n",
    "plt.show()"
   ]
  },
  {
   "cell_type": "code",
   "execution_count": null,
   "id": "2e96d771",
   "metadata": {},
   "outputs": [],
   "source": [
    "plt.rcParams[\"figure.figsize\"] = 15, 9\n",
    "sns.barplot(x = data[\"gname\"].value_counts()[1:20].index, y=data[\"gname\"].value_counts()[1:20].values)\n",
    "plt.ylabel(\"Total Attack\" ,fontsize=15)\n",
    "plt.xticks(rotation=70)\n",
    "plt.xlabel(\"Attack Group\", fontsize=15)\n",
    "plt.title(\"Attacks Group\", size=20, fontweight=\"bold\")\n",
    "plt.show()"
   ]
  },
  {
   "cell_type": "code",
   "execution_count": null,
   "id": "60d88d8c",
   "metadata": {},
   "outputs": [],
   "source": [
    "data['gname'].value_counts()[1:11].values"
   ]
  },
  {
   "cell_type": "code",
   "execution_count": null,
   "id": "33b3588d",
   "metadata": {},
   "outputs": [],
   "source": [
    "plt.figure(figsize = (15,7))\n",
    "sns.barplot(y = data['gname'].value_counts()[1:11].values, x = data['gname'].value_counts()[1:11].index,palette='viridis')\n",
    "plt.title('Top 10 Terrorist Organisation with Highest Terror Attacks',size=20, fontweight=\"bold\")\n",
    "plt.ylabel('Terror Group Name',size=15, fontweight=\"bold\")\n",
    "plt.xlabel('Number of Attacks',size=15, fontweight=\"bold\")\n",
    "plt.xticks(rotation= 70)\n",
    "plt.show()"
   ]
  },
  {
   "cell_type": "code",
   "execution_count": null,
   "id": "9dec53c8",
   "metadata": {},
   "outputs": [],
   "source": [
    "print(\"******************************SUMMARY****************************\")\n",
    "print('Country with most attacks: ',data['country_txt'].value_counts().idxmax())\n",
    "print('City with most attacks: ',data['city'].value_counts().index[1])\n",
    "print(\"Region with the most attacks:\",data['region_txt'].value_counts().idxmax())\n",
    "print(\"Year with the most attacks:\",data['iyear'].value_counts().idxmax())\n",
    "print(\"Month with the most attacks:\",data['imonth'].value_counts().idxmax())\n",
    "print(\"Most active terrorist group: \",data['gname'].value_counts()[1:11].idxmax() )\n",
    "print(\"Most common Attack Types:\",data['attacktype1_txt'].value_counts().idxmax())"
   ]
  },
  {
   "cell_type": "code",
   "execution_count": null,
   "id": "c5e16977",
   "metadata": {},
   "outputs": [],
   "source": []
  }
 ],
 "metadata": {
  "kernelspec": {
   "display_name": "Python 3 (ipykernel)",
   "language": "python",
   "name": "python3"
  },
  "language_info": {
   "codemirror_mode": {
    "name": "ipython",
    "version": 3
   },
   "file_extension": ".py",
   "mimetype": "text/x-python",
   "name": "python",
   "nbconvert_exporter": "python",
   "pygments_lexer": "ipython3",
   "version": "3.9.7"
  }
 },
 "nbformat": 4,
 "nbformat_minor": 5
}
