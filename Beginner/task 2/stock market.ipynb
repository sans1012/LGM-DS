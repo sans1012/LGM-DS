{
 "cells": [
  {
   "cell_type": "markdown",
   "id": "cfb2007e",
   "metadata": {},
   "source": [
    "# Data Science Intern at Let's Grow More LGMVIP Feb-22\n",
    "\n",
    "### Beginner Level Task\n",
    "\n",
    "### Stock Market Prediction And Forecasting Using Stacked LSTM\n",
    "\n",
    "    Datasetlinks: : https://raw.githubusercontent.com/mwitiderrick/stockprice/master/NSE-TATAGLOBAL.csv\n",
    "\n",
    "\n",
    "\n",
    "### Sanskriti Jain\n"
   ]
  },
  {
   "cell_type": "code",
   "execution_count": 1,
   "id": "34950842",
   "metadata": {},
   "outputs": [],
   "source": [
    "import numpy as np\n",
    "import pandas as pd\n",
    "import datetime\n",
    "import math\n",
    "import matplotlib.pyplot as plt\n",
    "import seaborn as sns\n",
    "from sklearn.preprocessing import MinMaxScaler\n",
    "from tensorflow.keras.models import Sequential\n",
    "from tensorflow.keras.layers import Dense , LSTM\n",
    "from sklearn.metrics import mean_squared_error"
   ]
  },
  {
   "cell_type": "code",
   "execution_count": 2,
   "id": "144cacf1",
   "metadata": {},
   "outputs": [],
   "source": [
    "url='https://raw.githubusercontent.com/mwitiderrick/stockprice/master/NSE-TATAGLOBAL.csv'"
   ]
  },
  {
   "cell_type": "code",
   "execution_count": 3,
   "id": "6b627d56",
   "metadata": {},
   "outputs": [],
   "source": [
    "df= pd.read_csv(url, parse_dates=True,)"
   ]
  },
  {
   "cell_type": "code",
   "execution_count": 4,
   "id": "35a00163",
   "metadata": {},
   "outputs": [
    {
     "data": {
      "text/html": [
       "<div>\n",
       "<style scoped>\n",
       "    .dataframe tbody tr th:only-of-type {\n",
       "        vertical-align: middle;\n",
       "    }\n",
       "\n",
       "    .dataframe tbody tr th {\n",
       "        vertical-align: top;\n",
       "    }\n",
       "\n",
       "    .dataframe thead th {\n",
       "        text-align: right;\n",
       "    }\n",
       "</style>\n",
       "<table border=\"1\" class=\"dataframe\">\n",
       "  <thead>\n",
       "    <tr style=\"text-align: right;\">\n",
       "      <th></th>\n",
       "      <th>Date</th>\n",
       "      <th>Open</th>\n",
       "      <th>High</th>\n",
       "      <th>Low</th>\n",
       "      <th>Last</th>\n",
       "      <th>Close</th>\n",
       "      <th>Total Trade Quantity</th>\n",
       "      <th>Turnover (Lacs)</th>\n",
       "    </tr>\n",
       "  </thead>\n",
       "  <tbody>\n",
       "    <tr>\n",
       "      <th>0</th>\n",
       "      <td>2018-09-28</td>\n",
       "      <td>234.05</td>\n",
       "      <td>235.95</td>\n",
       "      <td>230.20</td>\n",
       "      <td>233.50</td>\n",
       "      <td>233.75</td>\n",
       "      <td>3069914</td>\n",
       "      <td>7162.35</td>\n",
       "    </tr>\n",
       "    <tr>\n",
       "      <th>1</th>\n",
       "      <td>2018-09-27</td>\n",
       "      <td>234.55</td>\n",
       "      <td>236.80</td>\n",
       "      <td>231.10</td>\n",
       "      <td>233.80</td>\n",
       "      <td>233.25</td>\n",
       "      <td>5082859</td>\n",
       "      <td>11859.95</td>\n",
       "    </tr>\n",
       "    <tr>\n",
       "      <th>2</th>\n",
       "      <td>2018-09-26</td>\n",
       "      <td>240.00</td>\n",
       "      <td>240.00</td>\n",
       "      <td>232.50</td>\n",
       "      <td>235.00</td>\n",
       "      <td>234.25</td>\n",
       "      <td>2240909</td>\n",
       "      <td>5248.60</td>\n",
       "    </tr>\n",
       "    <tr>\n",
       "      <th>3</th>\n",
       "      <td>2018-09-25</td>\n",
       "      <td>233.30</td>\n",
       "      <td>236.75</td>\n",
       "      <td>232.00</td>\n",
       "      <td>236.25</td>\n",
       "      <td>236.10</td>\n",
       "      <td>2349368</td>\n",
       "      <td>5503.90</td>\n",
       "    </tr>\n",
       "    <tr>\n",
       "      <th>4</th>\n",
       "      <td>2018-09-24</td>\n",
       "      <td>233.55</td>\n",
       "      <td>239.20</td>\n",
       "      <td>230.75</td>\n",
       "      <td>234.00</td>\n",
       "      <td>233.30</td>\n",
       "      <td>3423509</td>\n",
       "      <td>7999.55</td>\n",
       "    </tr>\n",
       "  </tbody>\n",
       "</table>\n",
       "</div>"
      ],
      "text/plain": [
       "         Date    Open    High     Low    Last   Close  Total Trade Quantity  \\\n",
       "0  2018-09-28  234.05  235.95  230.20  233.50  233.75               3069914   \n",
       "1  2018-09-27  234.55  236.80  231.10  233.80  233.25               5082859   \n",
       "2  2018-09-26  240.00  240.00  232.50  235.00  234.25               2240909   \n",
       "3  2018-09-25  233.30  236.75  232.00  236.25  236.10               2349368   \n",
       "4  2018-09-24  233.55  239.20  230.75  234.00  233.30               3423509   \n",
       "\n",
       "   Turnover (Lacs)  \n",
       "0          7162.35  \n",
       "1         11859.95  \n",
       "2          5248.60  \n",
       "3          5503.90  \n",
       "4          7999.55  "
      ]
     },
     "execution_count": 4,
     "metadata": {},
     "output_type": "execute_result"
    }
   ],
   "source": [
    "df.reset_index()\n",
    "df.head()"
   ]
  },
  {
   "cell_type": "code",
   "execution_count": 5,
   "id": "10f0ca0d",
   "metadata": {
    "scrolled": true
   },
   "outputs": [
    {
     "name": "stdout",
     "output_type": "stream",
     "text": [
      "<class 'pandas.core.frame.DataFrame'>\n",
      "RangeIndex: 2035 entries, 0 to 2034\n",
      "Data columns (total 8 columns):\n",
      " #   Column                Non-Null Count  Dtype  \n",
      "---  ------                --------------  -----  \n",
      " 0   Date                  2035 non-null   object \n",
      " 1   Open                  2035 non-null   float64\n",
      " 2   High                  2035 non-null   float64\n",
      " 3   Low                   2035 non-null   float64\n",
      " 4   Last                  2035 non-null   float64\n",
      " 5   Close                 2035 non-null   float64\n",
      " 6   Total Trade Quantity  2035 non-null   int64  \n",
      " 7   Turnover (Lacs)       2035 non-null   float64\n",
      "dtypes: float64(6), int64(1), object(1)\n",
      "memory usage: 127.3+ KB\n"
     ]
    }
   ],
   "source": [
    "df.info()"
   ]
  },
  {
   "cell_type": "code",
   "execution_count": 6,
   "id": "1166f476",
   "metadata": {},
   "outputs": [
    {
     "data": {
      "text/html": [
       "<div>\n",
       "<style scoped>\n",
       "    .dataframe tbody tr th:only-of-type {\n",
       "        vertical-align: middle;\n",
       "    }\n",
       "\n",
       "    .dataframe tbody tr th {\n",
       "        vertical-align: top;\n",
       "    }\n",
       "\n",
       "    .dataframe thead th {\n",
       "        text-align: right;\n",
       "    }\n",
       "</style>\n",
       "<table border=\"1\" class=\"dataframe\">\n",
       "  <thead>\n",
       "    <tr style=\"text-align: right;\">\n",
       "      <th></th>\n",
       "      <th>Open</th>\n",
       "      <th>High</th>\n",
       "      <th>Low</th>\n",
       "      <th>Last</th>\n",
       "      <th>Close</th>\n",
       "      <th>Total Trade Quantity</th>\n",
       "      <th>Turnover (Lacs)</th>\n",
       "    </tr>\n",
       "  </thead>\n",
       "  <tbody>\n",
       "    <tr>\n",
       "      <th>count</th>\n",
       "      <td>2035.000000</td>\n",
       "      <td>2035.000000</td>\n",
       "      <td>2035.000000</td>\n",
       "      <td>2035.000000</td>\n",
       "      <td>2035.00000</td>\n",
       "      <td>2.035000e+03</td>\n",
       "      <td>2035.000000</td>\n",
       "    </tr>\n",
       "    <tr>\n",
       "      <th>mean</th>\n",
       "      <td>149.713735</td>\n",
       "      <td>151.992826</td>\n",
       "      <td>147.293931</td>\n",
       "      <td>149.474251</td>\n",
       "      <td>149.45027</td>\n",
       "      <td>2.335681e+06</td>\n",
       "      <td>3899.980565</td>\n",
       "    </tr>\n",
       "    <tr>\n",
       "      <th>std</th>\n",
       "      <td>48.664509</td>\n",
       "      <td>49.413109</td>\n",
       "      <td>47.931958</td>\n",
       "      <td>48.732570</td>\n",
       "      <td>48.71204</td>\n",
       "      <td>2.091778e+06</td>\n",
       "      <td>4570.767877</td>\n",
       "    </tr>\n",
       "    <tr>\n",
       "      <th>min</th>\n",
       "      <td>81.100000</td>\n",
       "      <td>82.800000</td>\n",
       "      <td>80.000000</td>\n",
       "      <td>81.000000</td>\n",
       "      <td>80.95000</td>\n",
       "      <td>3.961000e+04</td>\n",
       "      <td>37.040000</td>\n",
       "    </tr>\n",
       "    <tr>\n",
       "      <th>25%</th>\n",
       "      <td>120.025000</td>\n",
       "      <td>122.100000</td>\n",
       "      <td>118.300000</td>\n",
       "      <td>120.075000</td>\n",
       "      <td>120.05000</td>\n",
       "      <td>1.146444e+06</td>\n",
       "      <td>1427.460000</td>\n",
       "    </tr>\n",
       "    <tr>\n",
       "      <th>50%</th>\n",
       "      <td>141.500000</td>\n",
       "      <td>143.400000</td>\n",
       "      <td>139.600000</td>\n",
       "      <td>141.100000</td>\n",
       "      <td>141.25000</td>\n",
       "      <td>1.783456e+06</td>\n",
       "      <td>2512.030000</td>\n",
       "    </tr>\n",
       "    <tr>\n",
       "      <th>75%</th>\n",
       "      <td>157.175000</td>\n",
       "      <td>159.400000</td>\n",
       "      <td>155.150000</td>\n",
       "      <td>156.925000</td>\n",
       "      <td>156.90000</td>\n",
       "      <td>2.813594e+06</td>\n",
       "      <td>4539.015000</td>\n",
       "    </tr>\n",
       "    <tr>\n",
       "      <th>max</th>\n",
       "      <td>327.700000</td>\n",
       "      <td>328.750000</td>\n",
       "      <td>321.650000</td>\n",
       "      <td>325.950000</td>\n",
       "      <td>325.75000</td>\n",
       "      <td>2.919102e+07</td>\n",
       "      <td>55755.080000</td>\n",
       "    </tr>\n",
       "  </tbody>\n",
       "</table>\n",
       "</div>"
      ],
      "text/plain": [
       "              Open         High          Low         Last       Close  \\\n",
       "count  2035.000000  2035.000000  2035.000000  2035.000000  2035.00000   \n",
       "mean    149.713735   151.992826   147.293931   149.474251   149.45027   \n",
       "std      48.664509    49.413109    47.931958    48.732570    48.71204   \n",
       "min      81.100000    82.800000    80.000000    81.000000    80.95000   \n",
       "25%     120.025000   122.100000   118.300000   120.075000   120.05000   \n",
       "50%     141.500000   143.400000   139.600000   141.100000   141.25000   \n",
       "75%     157.175000   159.400000   155.150000   156.925000   156.90000   \n",
       "max     327.700000   328.750000   321.650000   325.950000   325.75000   \n",
       "\n",
       "       Total Trade Quantity  Turnover (Lacs)  \n",
       "count          2.035000e+03      2035.000000  \n",
       "mean           2.335681e+06      3899.980565  \n",
       "std            2.091778e+06      4570.767877  \n",
       "min            3.961000e+04        37.040000  \n",
       "25%            1.146444e+06      1427.460000  \n",
       "50%            1.783456e+06      2512.030000  \n",
       "75%            2.813594e+06      4539.015000  \n",
       "max            2.919102e+07     55755.080000  "
      ]
     },
     "execution_count": 6,
     "metadata": {},
     "output_type": "execute_result"
    }
   ],
   "source": [
    "df.describe()"
   ]
  },
  {
   "cell_type": "code",
   "execution_count": 7,
   "id": "05a547c5",
   "metadata": {
    "scrolled": true
   },
   "outputs": [
    {
     "data": {
      "text/plain": [
       "Date                    0\n",
       "Open                    0\n",
       "High                    0\n",
       "Low                     0\n",
       "Last                    0\n",
       "Close                   0\n",
       "Total Trade Quantity    0\n",
       "Turnover (Lacs)         0\n",
       "dtype: int64"
      ]
     },
     "execution_count": 7,
     "metadata": {},
     "output_type": "execute_result"
    }
   ],
   "source": [
    "df.isnull().sum()"
   ]
  },
  {
   "cell_type": "code",
   "execution_count": 8,
   "id": "fe2d686a",
   "metadata": {},
   "outputs": [
    {
     "data": {
      "text/plain": [
       "0       233.75\n",
       "1       233.25\n",
       "2       234.25\n",
       "3       236.10\n",
       "4       233.30\n",
       "         ...  \n",
       "2030    118.65\n",
       "2031    117.60\n",
       "2032    120.65\n",
       "2033    120.90\n",
       "2034    121.55\n",
       "Name: Close, Length: 2035, dtype: float64"
      ]
     },
     "execution_count": 8,
     "metadata": {},
     "output_type": "execute_result"
    }
   ],
   "source": [
    "df1=df.reset_index()['Close']\n",
    "df1"
   ]
  },
  {
   "cell_type": "code",
   "execution_count": 9,
   "id": "caf5726c",
   "metadata": {},
   "outputs": [
    {
     "data": {
      "text/plain": [
       "<AxesSubplot:>"
      ]
     },
     "execution_count": 9,
     "metadata": {},
     "output_type": "execute_result"
    },
    {
     "data": {
      "image/png": "[encoded data removed]",
      "text/plain": [
       "<Figure size 432x288 with 2 Axes>"
      ]
     },
     "metadata": {
      "needs_background": "light"
     },
     "output_type": "display_data"
    }
   ],
   "source": [
    "sns.heatmap(df.corr(), annot=True, cmap= \"cubehelix_r\")"
   ]
  },
  {
   "cell_type": "code",
   "execution_count": 10,
   "id": "a9d72443",
   "metadata": {},
   "outputs": [
    {
     "data": {
      "image/png": "[encoded data removed]",
      "text/plain": [
       "<Figure size 1152x504 with 1 Axes>"
      ]
     },
     "metadata": {
      "needs_background": "light"
     },
     "output_type": "display_data"
    }
   ],
   "source": [
    "df['Open'].plot(kind='line',figsize=(16,7),color='g',label=\"Opening Price\")\n",
    "\n",
    "plt.ylabel(\"Price\")\n",
    "plt.legend(loc=\"upper left\")\n",
    "plt.title(\"Change in opening price over the years\")\n",
    "plt.grid()"
   ]
  },
  {
   "cell_type": "code",
   "execution_count": 11,
   "id": "d895e6b9",
   "metadata": {},
   "outputs": [
    {
     "data": {
      "image/png": "[encoded data removed]",
      "text/plain": [
       "<Figure size 504x360 with 1 Axes>"
      ]
     },
     "metadata": {
      "needs_background": "light"
     },
     "output_type": "display_data"
    }
   ],
   "source": [
    "fig=plt.figure(figsize=(7,5))\n",
    "plt.scatter(df['Total Trade Quantity'],df['Turnover (Lacs)'], alpha=0.5, edgecolor='black', color='b')\n",
    "plt.xlabel(\"Trade Quantity (in 100000)\")\n",
    "plt.ylabel(\"Turnover (in lacs)\")\n",
    "plt.title(\" Selling Units Vs Turnover\")\n",
    "plt.show()"
   ]
  },
  {
   "cell_type": "code",
   "execution_count": 12,
   "id": "97af352f",
   "metadata": {},
   "outputs": [
    {
     "data": {
      "text/html": [
       "<div>\n",
       "<style scoped>\n",
       "    .dataframe tbody tr th:only-of-type {\n",
       "        vertical-align: middle;\n",
       "    }\n",
       "\n",
       "    .dataframe tbody tr th {\n",
       "        vertical-align: top;\n",
       "    }\n",
       "\n",
       "    .dataframe thead th {\n",
       "        text-align: right;\n",
       "    }\n",
       "</style>\n",
       "<table border=\"1\" class=\"dataframe\">\n",
       "  <thead>\n",
       "    <tr style=\"text-align: right;\">\n",
       "      <th></th>\n",
       "      <th>Open</th>\n",
       "    </tr>\n",
       "  </thead>\n",
       "  <tbody>\n",
       "    <tr>\n",
       "      <th>0</th>\n",
       "      <td>234.05</td>\n",
       "    </tr>\n",
       "    <tr>\n",
       "      <th>1</th>\n",
       "      <td>234.55</td>\n",
       "    </tr>\n",
       "    <tr>\n",
       "      <th>2</th>\n",
       "      <td>240.00</td>\n",
       "    </tr>\n",
       "    <tr>\n",
       "      <th>3</th>\n",
       "      <td>233.30</td>\n",
       "    </tr>\n",
       "    <tr>\n",
       "      <th>4</th>\n",
       "      <td>233.55</td>\n",
       "    </tr>\n",
       "    <tr>\n",
       "      <th>...</th>\n",
       "      <td>...</td>\n",
       "    </tr>\n",
       "    <tr>\n",
       "      <th>2030</th>\n",
       "      <td>117.60</td>\n",
       "    </tr>\n",
       "    <tr>\n",
       "      <th>2031</th>\n",
       "      <td>120.10</td>\n",
       "    </tr>\n",
       "    <tr>\n",
       "      <th>2032</th>\n",
       "      <td>121.80</td>\n",
       "    </tr>\n",
       "    <tr>\n",
       "      <th>2033</th>\n",
       "      <td>120.30</td>\n",
       "    </tr>\n",
       "    <tr>\n",
       "      <th>2034</th>\n",
       "      <td>122.10</td>\n",
       "    </tr>\n",
       "  </tbody>\n",
       "</table>\n",
       "<p>2035 rows × 1 columns</p>\n",
       "</div>"
      ],
      "text/plain": [
       "        Open\n",
       "0     234.05\n",
       "1     234.55\n",
       "2     240.00\n",
       "3     233.30\n",
       "4     233.55\n",
       "...      ...\n",
       "2030  117.60\n",
       "2031  120.10\n",
       "2032  121.80\n",
       "2033  120.30\n",
       "2034  122.10\n",
       "\n",
       "[2035 rows x 1 columns]"
      ]
     },
     "execution_count": 12,
     "metadata": {},
     "output_type": "execute_result"
    }
   ],
   "source": [
    "training_set= df[['Open']]\n",
    "training_set=pd.DataFrame(training_set)\n",
    "training_set"
   ]
  },
  {
   "cell_type": "code",
   "execution_count": null,
   "id": "2d8573b6",
   "metadata": {},
   "outputs": [],
   "source": []
  },
  {
   "cell_type": "code",
   "execution_count": 13,
   "id": "c5dc306a",
   "metadata": {},
   "outputs": [],
   "source": [
    "sc= MinMaxScaler(feature_range=(0,1))\n",
    "training_set_scaled= sc.fit_transform(np.array(df1).reshape(-1,1))"
   ]
  },
  {
   "cell_type": "code",
   "execution_count": 14,
   "id": "300a073b",
   "metadata": {},
   "outputs": [
    {
     "data": {
      "text/plain": [
       "array([[0.62418301],\n",
       "       [0.62214052],\n",
       "       [0.62622549],\n",
       "       ...,\n",
       "       [0.1621732 ],\n",
       "       [0.16319444],\n",
       "       [0.16584967]])"
      ]
     },
     "execution_count": 14,
     "metadata": {},
     "output_type": "execute_result"
    }
   ],
   "source": [
    "training_set_scaled"
   ]
  },
  {
   "cell_type": "code",
   "execution_count": 15,
   "id": "5e54a86e",
   "metadata": {},
   "outputs": [],
   "source": [
    "train_size= int(len(training_set_scaled)*0.65)\n",
    "test_size=int(len(training_set_scaled))-train_size\n",
    "train_data,test_data=training_set_scaled[0:train_size,:],training_set_scaled[train_size:len(df),:1]   "
   ]
  },
  {
   "cell_type": "code",
   "execution_count": 16,
   "id": "42ea2f7b",
   "metadata": {},
   "outputs": [
    {
     "data": {
      "text/plain": [
       "1322"
      ]
     },
     "execution_count": 16,
     "metadata": {},
     "output_type": "execute_result"
    }
   ],
   "source": [
    "train_size"
   ]
  },
  {
   "cell_type": "code",
   "execution_count": 17,
   "id": "96ef7da9",
   "metadata": {},
   "outputs": [],
   "source": [
    "def create_dataset(dataset,time_step=1):\n",
    "    dataX, dataY = [], []\n",
    "    for i in range(len(dataset)-time_step-1):\n",
    "        a = dataset[i:(i+time_step), 0]   ###i=0, 0,1,2,3-----99   100 \n",
    "        dataX.append(a)\n",
    "        dataY.append(dataset[i + time_step, 0])\n",
    "    return np.array(dataX), np.array(dataY)"
   ]
  },
  {
   "cell_type": "code",
   "execution_count": 18,
   "id": "64ff2189",
   "metadata": {},
   "outputs": [],
   "source": [
    "time_step=100\n",
    "x_train, y_train=create_dataset(train_data, time_step)\n",
    "x_test, y_test= create_dataset(test_data, time_step)"
   ]
  },
  {
   "cell_type": "code",
   "execution_count": 19,
   "id": "843d352c",
   "metadata": {},
   "outputs": [
    {
     "name": "stdout",
     "output_type": "stream",
     "text": [
      "(1221, 100) (1221,)\n"
     ]
    }
   ],
   "source": [
    "print(x_train.shape,y_train.shape)"
   ]
  },
  {
   "cell_type": "code",
   "execution_count": 20,
   "id": "45a333a3",
   "metadata": {},
   "outputs": [
    {
     "data": {
      "text/plain": [
       "(612, 100)"
      ]
     },
     "execution_count": 20,
     "metadata": {},
     "output_type": "execute_result"
    }
   ],
   "source": [
    "x_test.shape"
   ]
  },
  {
   "cell_type": "code",
   "execution_count": 21,
   "id": "41f23e0c",
   "metadata": {},
   "outputs": [
    {
     "data": {
      "text/plain": [
       "(612,)"
      ]
     },
     "execution_count": 21,
     "metadata": {},
     "output_type": "execute_result"
    }
   ],
   "source": [
    "y_test.shape"
   ]
  },
  {
   "cell_type": "code",
   "execution_count": 22,
   "id": "106ccb08",
   "metadata": {},
   "outputs": [],
   "source": [
    "x_train = x_train.reshape(x_train.shape[0],x_train.shape[1] , 1)\n",
    "x_test = x_test.reshape(x_test.shape[0],x_test.shape[1] , 1)"
   ]
  },
  {
   "cell_type": "code",
   "execution_count": 23,
   "id": "adea7c78",
   "metadata": {},
   "outputs": [],
   "source": [
    "model = Sequential()\n",
    "model.add(LSTM(50, return_sequences=True, input_shape=(100,1)))\n",
    "model.add(LSTM(50, return_sequences=True, input_shape=(100,1)))\n",
    "model.add(LSTM(50))\n",
    "model.add(Dense(1))\n",
    "model.compile(loss='mean_squared_error', optimizer='adam', metrics='acc')"
   ]
  },
  {
   "cell_type": "code",
   "execution_count": 24,
   "id": "f6fb1fcd",
   "metadata": {},
   "outputs": [
    {
     "name": "stdout",
     "output_type": "stream",
     "text": [
      "Model: \"sequential\"\n",
      "_________________________________________________________________\n",
      " Layer (type)                Output Shape              Param #   \n",
      "=================================================================\n",
      " lstm (LSTM)                 (None, 100, 50)           10400     \n",
      "                                                                 \n",
      " lstm_1 (LSTM)               (None, 100, 50)           20200     \n",
      "                                                                 \n",
      " lstm_2 (LSTM)               (None, 50)                20200     \n",
      "                                                                 \n",
      " dense (Dense)               (None, 1)                 51        \n",
      "                                                                 \n",
      "=================================================================\n",
      "Total params: 50,851\n",
      "Trainable params: 50,851\n",
      "Non-trainable params: 0\n",
      "_________________________________________________________________\n"
     ]
    }
   ],
   "source": [
    "model.summary()"
   ]
  },
  {
   "cell_type": "code",
   "execution_count": 26,
   "id": "b1d3de95",
   "metadata": {
    "scrolled": false
   },
   "outputs": [
    {
     "name": "stdout",
     "output_type": "stream",
     "text": [
      "Epoch 1/75\n",
      "20/20 [==============================] - 8s 400ms/step - loss: 0.0032 - acc: 8.1900e-04 - val_loss: 0.0020 - val_acc: 0.0016\n",
      "Epoch 2/75\n",
      "20/20 [==============================] - 6s 286ms/step - loss: 0.0019 - acc: 8.1900e-04 - val_loss: 0.0012 - val_acc: 0.0016\n",
      "Epoch 3/75\n",
      "20/20 [==============================] - 6s 299ms/step - loss: 0.0014 - acc: 8.1900e-04 - val_loss: 0.0012 - val_acc: 0.0016\n",
      "Epoch 4/75\n",
      "20/20 [==============================] - 21s 1s/step - loss: 0.0013 - acc: 8.1900e-04 - val_loss: 0.0012 - val_acc: 0.0016\n",
      "Epoch 5/75\n",
      "20/20 [==============================] - 26s 1s/step - loss: 0.0013 - acc: 8.1900e-04 - val_loss: 0.0011 - val_acc: 0.0016\n",
      "Epoch 6/75\n",
      "20/20 [==============================] - 23s 1s/step - loss: 0.0013 - acc: 8.1900e-04 - val_loss: 0.0012 - val_acc: 0.0016\n",
      "Epoch 7/75\n",
      "20/20 [==============================] - 16s 774ms/step - loss: 0.0012 - acc: 8.1900e-04 - val_loss: 0.0010 - val_acc: 0.0016\n",
      "Epoch 8/75\n",
      "20/20 [==============================] - 12s 578ms/step - loss: 0.0011 - acc: 8.1900e-04 - val_loss: 9.4642e-04 - val_acc: 0.0016\n",
      "Epoch 9/75\n",
      "20/20 [==============================] - 10s 514ms/step - loss: 0.0011 - acc: 8.1900e-04 - val_loss: 9.9695e-04 - val_acc: 0.0016\n",
      "Epoch 10/75\n",
      "20/20 [==============================] - 9s 441ms/step - loss: 0.0010 - acc: 8.1900e-04 - val_loss: 9.1532e-04 - val_acc: 0.0016\n",
      "Epoch 11/75\n",
      "20/20 [==============================] - 8s 426ms/step - loss: 0.0011 - acc: 8.1900e-04 - val_loss: 7.8579e-04 - val_acc: 0.0016\n",
      "Epoch 12/75\n",
      "20/20 [==============================] - 11s 559ms/step - loss: 0.0012 - acc: 8.1900e-04 - val_loss: 7.0183e-04 - val_acc: 0.0016\n",
      "Epoch 13/75\n",
      "20/20 [==============================] - 9s 463ms/step - loss: 9.5656e-04 - acc: 8.1900e-04 - val_loss: 8.3623e-04 - val_acc: 0.0016\n",
      "Epoch 14/75\n",
      "20/20 [==============================] - 8s 431ms/step - loss: 0.0010 - acc: 8.1900e-04 - val_loss: 0.0010 - val_acc: 0.0016\n",
      "Epoch 15/75\n",
      "20/20 [==============================] - 9s 456ms/step - loss: 9.6303e-04 - acc: 8.1900e-04 - val_loss: 8.3134e-04 - val_acc: 0.0016\n",
      "Epoch 16/75\n",
      "20/20 [==============================] - 8s 412ms/step - loss: 8.3791e-04 - acc: 8.1900e-04 - val_loss: 8.2366e-04 - val_acc: 0.0016\n",
      "Epoch 17/75\n",
      "20/20 [==============================] - 9s 436ms/step - loss: 8.9051e-04 - acc: 8.1900e-04 - val_loss: 7.1533e-04 - val_acc: 0.0016\n",
      "Epoch 18/75\n",
      "20/20 [==============================] - 13s 675ms/step - loss: 7.9297e-04 - acc: 8.1900e-04 - val_loss: 9.6122e-04 - val_acc: 0.0016\n",
      "Epoch 19/75\n",
      "20/20 [==============================] - 12s 584ms/step - loss: 7.7965e-04 - acc: 8.1900e-04 - val_loss: 7.8469e-04 - val_acc: 0.0016\n",
      "Epoch 20/75\n",
      "20/20 [==============================] - 11s 566ms/step - loss: 8.7490e-04 - acc: 8.1900e-04 - val_loss: 0.0010 - val_acc: 0.0016\n",
      "Epoch 21/75\n",
      "20/20 [==============================] - 11s 570ms/step - loss: 8.3849e-04 - acc: 8.1900e-04 - val_loss: 0.0011 - val_acc: 0.0016\n",
      "Epoch 22/75\n",
      "20/20 [==============================] - 15s 781ms/step - loss: 8.2527e-04 - acc: 8.1900e-04 - val_loss: 6.6395e-04 - val_acc: 0.0016\n",
      "Epoch 23/75\n",
      "20/20 [==============================] - 11s 525ms/step - loss: 6.9232e-04 - acc: 8.1900e-04 - val_loss: 7.3223e-04 - val_acc: 0.0016\n",
      "Epoch 24/75\n",
      "20/20 [==============================] - 8s 381ms/step - loss: 6.9379e-04 - acc: 8.1900e-04 - val_loss: 6.4238e-04 - val_acc: 0.0016\n",
      "Epoch 25/75\n",
      "20/20 [==============================] - 7s 373ms/step - loss: 6.5950e-04 - acc: 8.1900e-04 - val_loss: 7.9392e-04 - val_acc: 0.0016\n",
      "Epoch 26/75\n",
      "20/20 [==============================] - 7s 373ms/step - loss: 6.5516e-04 - acc: 8.1900e-04 - val_loss: 6.4739e-04 - val_acc: 0.0016\n",
      "Epoch 27/75\n",
      "20/20 [==============================] - 7s 367ms/step - loss: 6.7075e-04 - acc: 8.1900e-04 - val_loss: 7.8480e-04 - val_acc: 0.0016\n",
      "Epoch 28/75\n",
      "20/20 [==============================] - 7s 374ms/step - loss: 5.9636e-04 - acc: 8.1900e-04 - val_loss: 6.7156e-04 - val_acc: 0.0016\n",
      "Epoch 29/75\n",
      "20/20 [==============================] - 7s 371ms/step - loss: 6.4778e-04 - acc: 8.1900e-04 - val_loss: 8.3531e-04 - val_acc: 0.0016\n",
      "Epoch 30/75\n",
      "20/20 [==============================] - 7s 370ms/step - loss: 6.1703e-04 - acc: 8.1900e-04 - val_loss: 5.8911e-04 - val_acc: 0.0016\n",
      "Epoch 31/75\n",
      "20/20 [==============================] - 7s 371ms/step - loss: 6.2127e-04 - acc: 8.1900e-04 - val_loss: 6.5769e-04 - val_acc: 0.0016\n",
      "Epoch 32/75\n",
      "20/20 [==============================] - 7s 367ms/step - loss: 5.6613e-04 - acc: 8.1900e-04 - val_loss: 5.0401e-04 - val_acc: 0.0016\n",
      "Epoch 33/75\n",
      "20/20 [==============================] - 9s 437ms/step - loss: 7.1394e-04 - acc: 8.1900e-04 - val_loss: 7.0188e-04 - val_acc: 0.0016\n",
      "Epoch 34/75\n",
      "20/20 [==============================] - 10s 493ms/step - loss: 6.1674e-04 - acc: 8.1900e-04 - val_loss: 6.0455e-04 - val_acc: 0.0016\n",
      "Epoch 35/75\n",
      "20/20 [==============================] - 8s 377ms/step - loss: 5.4389e-04 - acc: 8.1900e-04 - val_loss: 5.5909e-04 - val_acc: 0.0016\n",
      "Epoch 36/75\n",
      "20/20 [==============================] - 7s 367ms/step - loss: 5.1873e-04 - acc: 8.1900e-04 - val_loss: 6.5527e-04 - val_acc: 0.0016\n",
      "Epoch 37/75\n",
      "20/20 [==============================] - 9s 441ms/step - loss: 5.1463e-04 - acc: 8.1900e-04 - val_loss: 5.2203e-04 - val_acc: 0.0016\n",
      "Epoch 38/75\n",
      "20/20 [==============================] - 9s 469ms/step - loss: 5.0431e-04 - acc: 8.1900e-04 - val_loss: 4.5838e-04 - val_acc: 0.0016\n",
      "Epoch 39/75\n",
      "20/20 [==============================] - 8s 387ms/step - loss: 5.0108e-04 - acc: 8.1900e-04 - val_loss: 7.8207e-04 - val_acc: 0.0016\n",
      "Epoch 40/75\n",
      "20/20 [==============================] - 7s 367ms/step - loss: 5.0356e-04 - acc: 8.1900e-04 - val_loss: 5.8936e-04 - val_acc: 0.0016\n",
      "Epoch 41/75\n",
      "20/20 [==============================] - 7s 366ms/step - loss: 4.6715e-04 - acc: 8.1900e-04 - val_loss: 5.5171e-04 - val_acc: 0.0016\n",
      "Epoch 42/75\n",
      "20/20 [==============================] - 7s 364ms/step - loss: 4.3974e-04 - acc: 8.1900e-04 - val_loss: 4.9415e-04 - val_acc: 0.0016\n",
      "Epoch 43/75\n",
      "20/20 [==============================] - 7s 366ms/step - loss: 4.3486e-04 - acc: 8.1900e-04 - val_loss: 4.9030e-04 - val_acc: 0.0016\n",
      "Epoch 44/75\n",
      "20/20 [==============================] - 7s 366ms/step - loss: 4.6508e-04 - acc: 8.1900e-04 - val_loss: 4.0835e-04 - val_acc: 0.0016\n",
      "Epoch 45/75\n",
      "20/20 [==============================] - 8s 400ms/step - loss: 4.3428e-04 - acc: 8.1900e-04 - val_loss: 4.1858e-04 - val_acc: 0.0016\n",
      "Epoch 46/75\n",
      "20/20 [==============================] - 6s 303ms/step - loss: 3.9793e-04 - acc: 8.1900e-04 - val_loss: 5.4877e-04 - val_acc: 0.0016\n",
      "Epoch 47/75\n",
      "20/20 [==============================] - 7s 330ms/step - loss: 4.1336e-04 - acc: 8.1900e-04 - val_loss: 3.7108e-04 - val_acc: 0.0016\n",
      "Epoch 48/75\n",
      "20/20 [==============================] - 6s 310ms/step - loss: 4.6730e-04 - acc: 8.1900e-04 - val_loss: 4.8941e-04 - val_acc: 0.0016\n",
      "Epoch 49/75\n",
      "20/20 [==============================] - 6s 309ms/step - loss: 3.7203e-04 - acc: 8.1900e-04 - val_loss: 3.3728e-04 - val_acc: 0.0016\n",
      "Epoch 50/75\n",
      "20/20 [==============================] - 6s 310ms/step - loss: 3.8543e-04 - acc: 8.1900e-04 - val_loss: 3.5304e-04 - val_acc: 0.0016\n",
      "Epoch 51/75\n",
      "20/20 [==============================] - 6s 310ms/step - loss: 3.9677e-04 - acc: 8.1900e-04 - val_loss: 4.0601e-04 - val_acc: 0.0016\n",
      "Epoch 52/75\n",
      "20/20 [==============================] - 6s 310ms/step - loss: 3.8218e-04 - acc: 8.1900e-04 - val_loss: 4.5566e-04 - val_acc: 0.0016\n",
      "Epoch 53/75\n",
      "20/20 [==============================] - 6s 312ms/step - loss: 3.4878e-04 - acc: 8.1900e-04 - val_loss: 4.0264e-04 - val_acc: 0.0016\n",
      "Epoch 54/75\n",
      "20/20 [==============================] - 6s 310ms/step - loss: 3.4670e-04 - acc: 8.1900e-04 - val_loss: 3.6751e-04 - val_acc: 0.0016\n",
      "Epoch 55/75\n",
      "20/20 [==============================] - 6s 310ms/step - loss: 3.9893e-04 - acc: 8.1900e-04 - val_loss: 3.5141e-04 - val_acc: 0.0016\n",
      "Epoch 56/75\n",
      "20/20 [==============================] - 6s 310ms/step - loss: 3.6924e-04 - acc: 8.1900e-04 - val_loss: 4.0418e-04 - val_acc: 0.0016\n",
      "Epoch 57/75\n",
      "20/20 [==============================] - 8s 400ms/step - loss: 3.9281e-04 - acc: 8.1900e-04 - val_loss: 4.5881e-04 - val_acc: 0.0016\n",
      "Epoch 58/75\n"
     ]
    },
    {
     "name": "stdout",
     "output_type": "stream",
     "text": [
      "20/20 [==============================] - 8s 395ms/step - loss: 3.2375e-04 - acc: 8.1900e-04 - val_loss: 3.1594e-04 - val_acc: 0.0016\n",
      "Epoch 59/75\n",
      "20/20 [==============================] - 6s 309ms/step - loss: 3.8871e-04 - acc: 8.1900e-04 - val_loss: 3.2710e-04 - val_acc: 0.0016\n",
      "Epoch 60/75\n",
      "20/20 [==============================] - 6s 309ms/step - loss: 3.1491e-04 - acc: 8.1900e-04 - val_loss: 2.8931e-04 - val_acc: 0.0016\n",
      "Epoch 61/75\n",
      "20/20 [==============================] - 6s 305ms/step - loss: 5.5223e-04 - acc: 8.1900e-04 - val_loss: 3.6082e-04 - val_acc: 0.0016\n",
      "Epoch 62/75\n",
      "20/20 [==============================] - 6s 304ms/step - loss: 3.7773e-04 - acc: 8.1900e-04 - val_loss: 3.4263e-04 - val_acc: 0.0016\n",
      "Epoch 63/75\n",
      "20/20 [==============================] - 6s 308ms/step - loss: 4.2224e-04 - acc: 8.1900e-04 - val_loss: 2.8217e-04 - val_acc: 0.0016\n",
      "Epoch 64/75\n",
      "20/20 [==============================] - 6s 313ms/step - loss: 3.1529e-04 - acc: 8.1900e-04 - val_loss: 2.9882e-04 - val_acc: 0.0016\n",
      "Epoch 65/75\n",
      "20/20 [==============================] - 6s 314ms/step - loss: 3.3105e-04 - acc: 8.1900e-04 - val_loss: 3.5107e-04 - val_acc: 0.0016\n",
      "Epoch 66/75\n",
      "20/20 [==============================] - 7s 340ms/step - loss: 3.1183e-04 - acc: 8.1900e-04 - val_loss: 2.7996e-04 - val_acc: 0.0016\n",
      "Epoch 67/75\n",
      "20/20 [==============================] - 6s 311ms/step - loss: 2.8134e-04 - acc: 8.1900e-04 - val_loss: 3.2284e-04 - val_acc: 0.0016\n",
      "Epoch 68/75\n",
      "20/20 [==============================] - 6s 305ms/step - loss: 2.7311e-04 - acc: 8.1900e-04 - val_loss: 2.6475e-04 - val_acc: 0.0016\n",
      "Epoch 69/75\n",
      "20/20 [==============================] - 6s 300ms/step - loss: 3.2861e-04 - acc: 8.1900e-04 - val_loss: 3.1578e-04 - val_acc: 0.0016\n",
      "Epoch 70/75\n",
      "20/20 [==============================] - 6s 297ms/step - loss: 2.7681e-04 - acc: 8.1900e-04 - val_loss: 2.9177e-04 - val_acc: 0.0016\n",
      "Epoch 71/75\n",
      "20/20 [==============================] - 6s 296ms/step - loss: 2.6747e-04 - acc: 8.1900e-04 - val_loss: 2.5313e-04 - val_acc: 0.0016\n",
      "Epoch 72/75\n",
      "20/20 [==============================] - 6s 306ms/step - loss: 2.6237e-04 - acc: 8.1900e-04 - val_loss: 2.5963e-04 - val_acc: 0.0016\n",
      "Epoch 73/75\n",
      "20/20 [==============================] - 7s 359ms/step - loss: 2.6629e-04 - acc: 8.1900e-04 - val_loss: 2.7615e-04 - val_acc: 0.0016\n",
      "Epoch 74/75\n",
      "20/20 [==============================] - 1073s 56s/step - loss: 2.4623e-04 - acc: 8.1900e-04 - val_loss: 2.4419e-04 - val_acc: 0.0016\n",
      "Epoch 75/75\n",
      "20/20 [==============================] - 10s 474ms/step - loss: 3.1649e-04 - acc: 8.1900e-04 - val_loss: 2.6272e-04 - val_acc: 0.0016\n"
     ]
    },
    {
     "data": {
      "text/plain": [
       "<keras.callbacks.History at 0x20e8c22ff40>"
      ]
     },
     "execution_count": 26,
     "metadata": {},
     "output_type": "execute_result"
    }
   ],
   "source": [
    "model.fit(x_train, y_train, validation_data = (x_test, y_test), epochs = 75, batch_size = 64, verbose = 1)"
   ]
  },
  {
   "cell_type": "code",
   "execution_count": 27,
   "id": "e0e6ff78",
   "metadata": {},
   "outputs": [],
   "source": [
    "train_predict=model.predict(x_train)\n",
    "test_predict=model.predict(x_test)\n",
    "#Transformback to original form\n",
    "train_predict=sc.inverse_transform(train_predict)\n",
    "test_predict=sc.inverse_transform(test_predict)"
   ]
  },
  {
   "cell_type": "code",
   "execution_count": 28,
   "id": "dd4b2023",
   "metadata": {},
   "outputs": [
    {
     "data": {
      "text/plain": [
       "166.97993973526005"
      ]
     },
     "execution_count": 28,
     "metadata": {},
     "output_type": "execute_result"
    }
   ],
   "source": [
    "math.sqrt(mean_squared_error(y_train,train_predict))"
   ]
  },
  {
   "cell_type": "code",
   "execution_count": 29,
   "id": "3cf622b4",
   "metadata": {},
   "outputs": [
    {
     "data": {
      "text/plain": [
       "116.54084918918404"
      ]
     },
     "execution_count": 29,
     "metadata": {},
     "output_type": "execute_result"
    }
   ],
   "source": [
    "math.sqrt(mean_squared_error(y_test,test_predict))"
   ]
  },
  {
   "cell_type": "code",
   "execution_count": 30,
   "id": "12eb41fe",
   "metadata": {},
   "outputs": [
    {
     "data": {
      "image/png": "[encoded data removed]",
      "text/plain": [
       "<Figure size 432x288 with 1 Axes>"
      ]
     },
     "metadata": {
      "needs_background": "light"
     },
     "output_type": "display_data"
    }
   ],
   "source": [
    "### Plotting \n",
    "# shift train predictions for plotting\n",
    "look_back=100\n",
    "trainPredictPlot = np.empty_like(training_set_scaled)\n",
    "trainPredictPlot[:, :] = np.nan\n",
    "trainPredictPlot[look_back:len(train_predict)+look_back, :] = train_predict\n",
    "\n",
    "# shift test predictions for plotting\n",
    "testPredictPlot = np.empty_like(training_set_scaled)\n",
    "testPredictPlot[:, :] = np.nan\n",
    "testPredictPlot[len(train_predict)+(look_back*2)+1:len(df1)-1, :] = test_predict\n",
    "\n",
    "# plot baseline and predictions\n",
    "plt.plot(sc.inverse_transform(training_set_scaled))\n",
    "plt.plot(trainPredictPlot)\n",
    "plt.plot(testPredictPlot)\n",
    "plt.show()"
   ]
  },
  {
   "cell_type": "code",
   "execution_count": null,
   "id": "0e02281c",
   "metadata": {},
   "outputs": [],
   "source": []
  }
 ],
 "metadata": {
  "kernelspec": {
   "display_name": "Python 3 (ipykernel)",
   "language": "python",
   "name": "python3"
  },
  "language_info": {
   "codemirror_mode": {
    "name": "ipython",
    "version": 3
   },
   "file_extension": ".py",
   "mimetype": "text/x-python",
   "name": "python",
   "nbconvert_exporter": "python",
   "pygments_lexer": "ipython3",
   "version": "3.9.7"
  }
 },
 "nbformat": 4,
 "nbformat_minor": 5
}
